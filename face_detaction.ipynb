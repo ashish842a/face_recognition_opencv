{
 "cells": [
  {
   "cell_type": "code",
   "execution_count": 1,
   "id": "c6173eda-f0d7-4399-b706-919d60ee6f9b",
   "metadata": {},
   "outputs": [],
   "source": [
    "import cv2"
   ]
  },
  {
   "cell_type": "code",
   "execution_count": null,
   "id": "ec409121-1a53-41ff-8392-2712cd5bf3d1",
   "metadata": {},
   "outputs": [],
   "source": [
    "import cv2\n",
    "\n",
    "face_cap = cv2.CascadeClassifier(cv2.data.haarcascades + 'haarcascade_frontalface_default.xml')\n",
    "\n",
    "video_cap = cv2.VideoCapture(0)\n",
    "if not video_cap.isOpened():\n",
    "    print(\"Error: Could not open video device.\")\n",
    "    exit()\n",
    "\n",
    "while True:\n",
    "    ret, video_data = video_cap.read()\n",
    "    if not ret:\n",
    "        print(\"Error: Failed to capture video frame.\")\n",
    "        break\n",
    "    \n",
    "    col = cv2.cvtColor(video_data, cv2.COLOR_BGR2GRAY)\n",
    "    faces = face_cap.detectMultiScale(\n",
    "        col,\n",
    "        scaleFactor=1.1,\n",
    "        minNeighbors=5,\n",
    "        minSize=(30, 30),\n",
    "        flags=cv2.CASCADE_SCALE_IMAGE\n",
    "    )\n",
    "    \n",
    "    for (x, y, w, h) in faces:\n",
    "        cv2.rectangle(video_data, (x, y), (x+w, y+h), (0, 255, 0), 2)\n",
    "        \n",
    "    cv2.imshow(\"Video Feed\", video_data)\n",
    "    \n",
    "    key = cv2.waitKey(10) & 0xFF\n",
    "    if key == ord('q'):\n",
    "        break\n",
    "\n",
    "video_cap.release()\n",
    "cv2.destroyAllWindows()\n"
   ]
  },
  {
   "cell_type": "code",
   "execution_count": null,
   "id": "4fb59615-95fc-4d8d-9292-c64fe064e075",
   "metadata": {},
   "outputs": [],
   "source": []
  }
 ],
 "metadata": {
  "kernelspec": {
   "display_name": "Python 3 (ipykernel)",
   "language": "python",
   "name": "python3"
  },
  "language_info": {
   "codemirror_mode": {
    "name": "ipython",
    "version": 3
   },
   "file_extension": ".py",
   "mimetype": "text/x-python",
   "name": "python",
   "nbconvert_exporter": "python",
   "pygments_lexer": "ipython3",
   "version": "3.10.10"
  }
 },
 "nbformat": 4,
 "nbformat_minor": 5
}
